{
  "nbformat": 4,
  "nbformat_minor": 0,
  "metadata": {
    "colab": {
      "provenance": []
    },
    "kernelspec": {
      "name": "python3",
      "display_name": "Python 3"
    },
    "language_info": {
      "name": "python"
    }
  },
  "cells": [
    {
      "cell_type": "code",
      "execution_count": null,
      "metadata": {
        "id": "mfQ_q78NaXMy"
      },
      "outputs": [],
      "source": [
        "#https://trackmytrading.wordpress.com/\n",
        "!pip install backtrader pandas_datareader\n",
        "!pip install pyfolio\n"
      ]
    },
    {
      "cell_type": "code",
      "source": [
        "import pandas_datareader.data as web\n",
        "import pyfolio as pf\n",
        "import yfinance as yf\n",
        "import backtrader as bt\n",
        "import pandas_datareader.data as web\n",
        "import datetime\n",
        "import matplotlib.pyplot as plt\n",
        "import backtrader.analyzers as btanalyzers\n",
        "import backtrader.strategies as btstrats\n"
      ],
      "metadata": {
        "id": "MHvQGDLJAUqs"
      },
      "execution_count": null,
      "outputs": []
    },
    {
      "cell_type": "code",
      "source": [
        "\n",
        "\n",
        "# Download data for a single stock\n",
        "data_df = yf.download('IBM', start='2022-01-01', end='2023-04-10')\n",
        "data_df.head()\n",
        "\n"
      ],
      "metadata": {
        "id": "q7p-rurL1QTy"
      },
      "execution_count": null,
      "outputs": []
    },
    {
      "cell_type": "code",
      "source": [
        "def printTradeAnalysis(analyzer):\n",
        "    '''\n",
        "    Function to print the Technical Analysis results in a nice format.\n",
        "    '''\n",
        "    #Get the results we are interested in\n",
        "    analyzed_map = {}\n",
        "    total_open = analyzer.total.open\n",
        "    total_closed = analyzer.total.closed\n",
        "    total_won = analyzer.won.total\n",
        "    total_lost = analyzer.lost.total\n",
        "    win_streak = analyzer.streak.won.longest\n",
        "    lose_streak = analyzer.streak.lost.longest\n",
        "    pnl_net = round(analyzer.pnl.net.total,2)\n",
        "    strike_rate = (total_won / total_closed) * 100\n",
        "    analyzed_map = {\"total_open\": total_open ,\"total_closed\": total_closed ,\"total_won\": total_won ,\"total_lost\": total_lost ,\n",
        "                    \"win_streak\": win_streak ,\"lose_streak\": lose_streak ,\"pnl_net\": pnl_net ,\"strike_rate\": strike_rate }\n",
        "\n",
        "    #Designate the rows\n",
        "    h1 = ['Total Open', 'Total Closed', 'Total Won', 'Total Lost']\n",
        "    h2 = ['Strike Rate','Win Streak', 'Losing Streak', 'PnL Net']\n",
        "    r1 = [total_open, total_closed,total_won,total_lost]\n",
        "    r2 = [strike_rate, win_streak, lose_streak, pnl_net]\n",
        "    #Check which set of headers is the longest.\n",
        "    if len(h1) > len(h2):\n",
        "        header_length = len(h1)\n",
        "    else:\n",
        "        header_length = len(h2)\n",
        "    #Print the rows\n",
        "    print_list = [h1,r1,h2,r2]\n",
        "    row_format =\"{:<15}\" * (header_length + 1)\n",
        "    print(\"Trade Analysis Results:\")\n",
        "    for row in print_list:\n",
        "        print(row_format.format('',*row))\n",
        "    \n",
        "    return analyzed_map\n",
        " \n",
        "def printSQN(analyzer):\n",
        "    sqn = round(analyzer.sqn,2)\n",
        "    print('SQN: {}'.format(sqn))\n",
        "    return sqn"
      ],
      "metadata": {
        "id": "m4P0mLrRR8Qs"
      },
      "execution_count": null,
      "outputs": []
    },
    {
      "cell_type": "code",
      "source": [
        "# Strategy: Base class for user-defined strategies\n",
        "# BuyAndHold: Buy and hold strategy\n",
        "# CMA: Centered Moving Average strategy\n",
        "# CrossOver: Cross-over strategy\n",
        "# Dummy: Dummy strategy\n",
        "# ElliotWave: Elliot Wave strategy\n",
        "# GoldenCross: Golden Cross strategy\n",
        "# Ichimoku: Ichimoku Kinko Hyo strategy\n",
        "# MACD: Moving Average Convergence Divergence strategy\n",
        "# MAE: Maximum Adverse Excursion strategy\n",
        "# Momentum: Momentum strategy\n",
        "# MovingAverage: Moving Average strategy\n",
        "# RSI: Relative Strength Index strategy\n",
        "# Stochastic: Stochastic strategy\n",
        "# WilliamsR: Williams %R strategy\n",
        "# ZigZag: Zig Zag strategy"
      ],
      "metadata": {
        "id": "vEWRYE6GcRcf"
      },
      "execution_count": null,
      "outputs": []
    },
    {
      "cell_type": "code",
      "source": [
        "#-- strategies\n",
        "import backtrader as bt\n",
        "import backtrader.talib as talib\n",
        "\n",
        "class MACDStrategy(bt.Strategy):\n",
        "    params = (\n",
        "        ('fast_length', 12),\n",
        "        ('slow_length', 26),\n",
        "        ('signal_length', 9),\n",
        "    )\n",
        "    \n",
        "    def __init__(self):\n",
        "        self.macd = bt.indicators.MACD(\n",
        "            self.data,\n",
        "            period_me1=self.p.fast_length,\n",
        "            period_me2=self.p.slow_length,\n",
        "            period_signal=self.p.signal_length,\n",
        "        )\n",
        "\n",
        "    def next(self):\n",
        "        if not self.position:\n",
        "            if self.macd.macd[0] > self.macd.signal[0]:\n",
        "                self.buy()\n",
        "        elif self.macd.macd[0] < self.macd.signal[0]:\n",
        "            self.sell()\n",
        "\n",
        "\n",
        "\n",
        "class MovingAverageCrossStrategy(bt.Strategy):\n",
        "    \n",
        "    params = (('pfast', 10), ('pslow', 30),)\n",
        "    \n",
        "    def __init__(self):\n",
        "        self.fastma = bt.indicators.SMA(self.data, period=self.params.pfast)\n",
        "        self.slowma = bt.indicators.SMA(self.data, period=self.params.pslow)\n",
        "        self.crossover = bt.indicators.CrossOver(self.fastma, self.slowma)\n",
        "\n",
        "    def next(self):\n",
        "        if not self.position:\n",
        "            if self.crossover > 0:\n",
        "                self.buy()\n",
        "        elif self.crossover < 0:\n",
        "            self.close()\n",
        "\n",
        "\n",
        "\n",
        "class DonchianChannelStrategy(bt.Strategy):\n",
        "    params = (('period', 20),)\n",
        "\n",
        "    def __init__(self):\n",
        "        self.donchian = talib.DONCHIAN(self.data.high, self.data.low, self.data.close, timeperiod=self.p.period)\n",
        "\n",
        "    def next(self):\n",
        "        if self.donchian.lines.dcl[0] < self.data.close[0]:\n",
        "            self.buy()\n",
        "        elif self.donchian.lines.dch[0] > self.data.close[0]:\n",
        "            self.sell()\n",
        "\n",
        "class ParabolicSARStrategy(bt.Strategy):\n",
        "\n",
        "    params = (('af', 0.02), ('amax', 0.2))\n",
        "\n",
        "    def __init__(self):\n",
        "        self.sar = bt.indicators.PSAR(self.data, af=self.params.af, afmax=self.params.amax)\n",
        "\n",
        "    def next(self):\n",
        "        if not self.position:\n",
        "            if self.data.close[0] > self.sar[0]:\n",
        "                self.buy()\n",
        "        elif self.data.close[0] < self.sar[0]:\n",
        "            self.close()\n",
        "\n",
        "\n",
        "\n",
        "class MovingAverageEnvelopeStrategy(bt.Strategy):\n",
        "\n",
        "    params = (('p', 20), ('dev', 0.05),)\n",
        "\n",
        "    def __init__(self):\n",
        "        self.ma = bt.indicators.SMA(self.data, period=self.params.p)\n",
        "        self.upper = self.ma * (1.0 + self.params.dev)\n",
        "        self.lower = self.ma * (1.0 - self.params.dev)\n",
        "\n",
        "    def next(self):\n",
        "        if not self.position:\n",
        "            if self.data.close[0] > self.upper[0]:\n",
        "                self.buy()\n",
        "        elif self.data.close[0] < self.lower[0]:\n",
        "            self.close()\n",
        "\n",
        "\n",
        "\n",
        "\n"
      ],
      "metadata": {
        "id": "iDlqzwmGqbDw"
      },
      "execution_count": null,
      "outputs": []
    },
    {
      "cell_type": "code",
      "source": [
        "def analyze_result(result,initial_cash):\n",
        "  firstStrat = result\n",
        "\n",
        " \n",
        "  # print the analyzers\n",
        "  analyzed_data = printTradeAnalysis(firstStrat.analyzers.ta.get_analysis())\n",
        "  analyzed_data[\"sqn\"] = printSQN(firstStrat.analyzers.sqn.get_analysis())\n",
        "  analyzed_data[\"sharperatio\"] = result.analyzers.sharpe_ratio.get_analysis()['sharperatio']\n",
        "  analyzed_data[\"max_drawdown\"] = result.analyzers.drawdown.get_analysis()['max']['drawdown']\n",
        "  analyzed_data[\"pnl\"] = cerebro.broker.getvalue() - initial_cash\n",
        "\n",
        "  print(analyzed_data)\n",
        "  sharpe_ratio =result.analyzers.sharpe_ratio.get_analysis()\n",
        "  print(\"Sharpe Ratio:\", sharpe_ratio['sharperatio'])\n",
        "\n",
        "  drawdown = result.analyzers.drawdown.get_analysis()\n",
        "  print(\"Max Drawdown:\", drawdown['max']['drawdown'])\n",
        "  \n",
        "  #Get final portfolio Value\n",
        "  portvalue = cerebro.broker.getvalue()\n",
        "  print(\"final and last port value:  \"+str(portvalue))\n",
        "  pnl = portvalue - initial_cash\n",
        "  #Print out the final result\n",
        "  print('Final Portfolio Value: ${}'.format(portvalue))\n",
        "  print('P/L: ${}'.format(pnl))\n"
      ],
      "metadata": {
        "id": "7gUZjdll_hI9"
      },
      "execution_count": null,
      "outputs": []
    },
    {
      "cell_type": "code",
      "source": [
        "start = datetime.datetime(2015, 1, 1)\n",
        "end = datetime.datetime(2022, 4, 18)\n",
        "data = bt.feeds.PandasData(dataname=data_df)"
      ],
      "metadata": {
        "id": "Z8p2NLMFAtJ3"
      },
      "execution_count": null,
      "outputs": []
    },
    {
      "cell_type": "code",
      "source": [
        "\n",
        "def init_cerebro(data, cash , comm):\n",
        "  cerebro = bt.Cerebro()\n",
        "  # Add analyzers\n",
        "  #cerebro.addanalyzer(bt.analyzers.TradeAnalyzer, _name='trade_analyzer')\n",
        "  # cerebro.addanalyzer(bt.analyzers.TimeReturn, _name='time_return')\n",
        "  # cerebro.addanalyzer(bt.analyzers.PyFolio, _name='pyfolio')\n",
        "  # cerebro.addobserver(bt.observers.Value)\n",
        "  # cerebro.addanalyzer(bt.analyzers.SharpeRatio, riskfreerate=0.0)\n",
        "  # cerebro.addanalyzer(bt.analyzers.Returns)\n",
        "  # cerebro.addanalyzer(bt.analyzers.DrawDown)\n",
        "\n",
        "  cerebro.addanalyzer(bt.analyzers.SharpeRatio, _name='sharpe_ratio')\n",
        "  cerebro.addanalyzer(bt.analyzers.DrawDown, _name='drawdown')\n",
        "  cerebro.addanalyzer(bt.analyzers.TradeAnalyzer, _name=\"ta\")\n",
        "  cerebro.addanalyzer(bt.analyzers.SQN, _name=\"sqn\")\n",
        "  cerebro.broker.setcash(cash)\n",
        "  cerebro.broker.setcommission(commission=comm)\n",
        "\n",
        "\n",
        "\n",
        "  cerebro.adddata(data)\n",
        "  return cerebro\n",
        "\n"
      ],
      "metadata": {
        "id": "ZAXv2GGfXsZ9"
      },
      "execution_count": null,
      "outputs": []
    },
    {
      "cell_type": "code",
      "source": [
        "cerebro = init_cerebro(data)\n",
        "cerebro.addstrategy(MovingAverageEnvelopeStrategy)\n",
        "#cerebro.addstrategy(btstrats.SMA_CrossOver)\n",
        "cerebro.addstrategy(MACDStrategy)\n",
        "#cerebro.addstrategy(ParabolicSARStrategy)\n",
        "cerebro.strats.pop()\n",
        "\n",
        "results = cerebro.run()\n",
        "print(results) "
      ],
      "metadata": {
        "colab": {
          "base_uri": "https://localhost:8080/",
          "height": 35
        },
        "id": "GKCor6GubuTi",
        "outputId": "ae6dc73e-896c-4d8e-bb47-2441fc8259c9"
      },
      "execution_count": null,
      "outputs": [
        {
          "output_type": "stream",
          "name": "stdout",
          "text": [
            "[<__main__.MovingAverageEnvelopeStrategy object at 0x7f69fca10310>]\n"
          ]
        }
      ]
    },
    {
      "cell_type": "code",
      "source": [
        "strategyList = [MovingAverageEnvelopeStrategy,MACDStrategy,ParabolicSARStrategy,btstrats.SMA_CrossOver ] \n"
      ],
      "metadata": {
        "id": "IxiJsBAzEPJl"
      },
      "execution_count": null,
      "outputs": []
    },
    {
      "cell_type": "code",
      "source": [
        "cash = 10000\n",
        "comm = 0.003\n",
        "\n",
        "for strtgy in strategyList:\n",
        "  strtgy_name = strtgy.__name__\n",
        "  print(strtgy_name)\n",
        "  cerebro = init_cerebro(data,cash,comm)\n",
        "  cerebro.addstrategy(strtgy)\n",
        "  res = cerebro.run()\n",
        "  chart_file = 'result'+strtgy_name+'.png'\n",
        "  cerebro.plot()[0][0].savefig(chart_file, dpi=300)\n",
        "  returns_result = analyze_result(res[0],cash)\n",
        "  cerebro.strats.pop()\n"
      ],
      "metadata": {
        "colab": {
          "base_uri": "https://localhost:8080/",
          "height": 987
        },
        "id": "MZySTOA6ESDE",
        "outputId": "e629dec7-2d87-43d2-aa75-7e6d49576b48"
      },
      "execution_count": null,
      "outputs": [
        {
          "output_type": "stream",
          "name": "stdout",
          "text": [
            "MovingAverageEnvelopeStrategy\n",
            "Trade Analysis Results:\n",
            "               Total Open     Total Closed   Total Won      Total Lost     \n",
            "               0              3              1              2              \n",
            "               Strike Rate    Win Streak     Losing Streak  PnL Net        \n",
            "               33.333333333333331              2              -18.06         \n",
            "SQN: -0.87\n",
            "{'total_open': 0, 'total_closed': 3, 'total_won': 1, 'total_lost': 2, 'win_streak': 1, 'lose_streak': 2, 'pnl_net': -18.06, 'strike_rate': 33.33333333333333, 'sqn': -0.87, 'sharperatio': -12.077136214229057, 'max_drawdown': 0.3291442005940251, 'pnl': -18.055208145142387}\n",
            "Sharpe Ratio: -12.077136214229057\n",
            "Max Drawdown: 0.3291442005940251\n",
            "final and last port value:  9981.944791854858\n",
            "Final Portfolio Value: $9981.944791854858\n",
            "P/L: $-18.055208145142387\n",
            "MACDStrategy\n",
            "Trade Analysis Results:\n",
            "               Total Open     Total Closed   Total Won      Total Lost     \n",
            "               1              10             2              8              \n",
            "               Strike Rate    Win Streak     Losing Streak  PnL Net        \n",
            "               20.0           1              6              -14.64         \n",
            "SQN: -0.54\n",
            "{'total_open': 1, 'total_closed': 10, 'total_won': 2, 'total_lost': 8, 'win_streak': 1, 'lose_streak': 6, 'pnl_net': -14.64, 'strike_rate': 20.0, 'sqn': -0.54, 'sharperatio': -83.35268411459222, 'max_drawdown': 0.3383754600934195, 'pnl': -11.521198204041866}\n",
            "Sharpe Ratio: -83.35268411459222\n",
            "Max Drawdown: 0.3383754600934195\n",
            "final and last port value:  9988.478801795958\n",
            "Final Portfolio Value: $9988.478801795958\n",
            "P/L: $-11.521198204041866\n",
            "ParabolicSARStrategy\n",
            "Trade Analysis Results:\n",
            "               Total Open     Total Closed   Total Won      Total Lost     \n",
            "               1              13             4              9              \n",
            "               Strike Rate    Win Streak     Losing Streak  PnL Net        \n",
            "               30.769230769230772              3              -10.52         \n",
            "SQN: -0.37\n",
            "{'total_open': 1, 'total_closed': 13, 'total_won': 4, 'total_lost': 9, 'win_streak': 2, 'lose_streak': 3, 'pnl_net': -10.52, 'strike_rate': 30.76923076923077, 'sqn': -0.37, 'sharperatio': -81.68308523055283, 'max_drawdown': 0.2766622933236207, 'pnl': -7.405530548097886}\n",
            "Sharpe Ratio: -81.68308523055283\n",
            "Max Drawdown: 0.2766622933236207\n",
            "final and last port value:  9992.594469451902\n",
            "Final Portfolio Value: $9992.594469451902\n",
            "P/L: $-7.405530548097886\n",
            "SMA_CrossOver\n",
            "Trade Analysis Results:\n",
            "               Total Open     Total Closed   Total Won      Total Lost     \n",
            "               1              6              1              5              \n",
            "               Strike Rate    Win Streak     Losing Streak  PnL Net        \n",
            "               16.6666666666666641              4              -32.68         \n",
            "SQN: -2.04\n",
            "{'total_open': 1, 'total_closed': 6, 'total_won': 1, 'total_lost': 5, 'win_streak': 1, 'lose_streak': 4, 'pnl_net': -32.68, 'strike_rate': 16.666666666666664, 'sqn': -2.04, 'sharperatio': -10.981664798403356, 'max_drawdown': 0.3866779451625499, 'pnl': -34.56543205261369}\n",
            "Sharpe Ratio: -10.981664798403356\n",
            "Max Drawdown: 0.3866779451625499\n",
            "final and last port value:  9965.434567947386\n",
            "Final Portfolio Value: $9965.434567947386\n",
            "P/L: $-34.56543205261369\n"
          ]
        }
      ]
    }
  ]
}